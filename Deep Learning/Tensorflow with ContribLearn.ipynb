{
 "cells": [
  {
   "cell_type": "markdown",
   "metadata": {},
   "source": [
    "# Tensorflow with ContribLearn\n",
    "\n",
    "As we saw previously how to build a full Multi-Layer Perceptron model with full Sessions in Tensorflow. Unfortunately this was an extremely involved process. However developers have created ContribLearn (previously known as TKFlow or SciKit-Flow) which provides a SciKit Learn like interface for Tensorflow!\n",
    "\n",
    "It is much easier to use, but you sacrifice some level of customization of your model. Let's go ahead and explore it!"
   ]
  },
  {
   "cell_type": "markdown",
   "metadata": {},
   "source": [
    "## Get the Data\n",
    "\n",
    "We will the iris data set.\n",
    "\n",
    "Let's get the data:"
   ]
  },
  {
   "cell_type": "code",
   "execution_count": 1,
   "metadata": {
    "collapsed": true
   },
   "outputs": [],
   "source": [
    "from sklearn.datasets import load_iris"
   ]
  },
  {
   "cell_type": "code",
   "execution_count": 2,
   "metadata": {
    "collapsed": true
   },
   "outputs": [],
   "source": [
    "iris = load_iris()"
   ]
  },
  {
   "cell_type": "code",
   "execution_count": 3,
   "metadata": {
    "collapsed": true
   },
   "outputs": [],
   "source": [
    "X = iris['data']"
   ]
  },
  {
   "cell_type": "code",
   "execution_count": 4,
   "metadata": {
    "collapsed": true
   },
   "outputs": [],
   "source": [
    "y = iris['target']"
   ]
  },
  {
   "cell_type": "code",
   "execution_count": 5,
   "metadata": {},
   "outputs": [
    {
     "data": {
      "text/plain": [
       "array([0, 0, 0, 0, 0, 0, 0, 0, 0, 0, 0, 0, 0, 0, 0, 0, 0, 0, 0, 0, 0, 0, 0,\n",
       "       0, 0, 0, 0, 0, 0, 0, 0, 0, 0, 0, 0, 0, 0, 0, 0, 0, 0, 0, 0, 0, 0, 0,\n",
       "       0, 0, 0, 0, 1, 1, 1, 1, 1, 1, 1, 1, 1, 1, 1, 1, 1, 1, 1, 1, 1, 1, 1,\n",
       "       1, 1, 1, 1, 1, 1, 1, 1, 1, 1, 1, 1, 1, 1, 1, 1, 1, 1, 1, 1, 1, 1, 1,\n",
       "       1, 1, 1, 1, 1, 1, 1, 1, 2, 2, 2, 2, 2, 2, 2, 2, 2, 2, 2, 2, 2, 2, 2,\n",
       "       2, 2, 2, 2, 2, 2, 2, 2, 2, 2, 2, 2, 2, 2, 2, 2, 2, 2, 2, 2, 2, 2, 2,\n",
       "       2, 2, 2, 2, 2, 2, 2, 2, 2, 2, 2, 2])"
      ]
     },
     "execution_count": 5,
     "metadata": {},
     "output_type": "execute_result"
    }
   ],
   "source": [
    "y"
   ]
  },
  {
   "cell_type": "code",
   "execution_count": 6,
   "metadata": {},
   "outputs": [
    {
     "data": {
      "text/plain": [
       "dtype('int32')"
      ]
     },
     "execution_count": 6,
     "metadata": {},
     "output_type": "execute_result"
    }
   ],
   "source": [
    "y.dtype"
   ]
  },
  {
   "cell_type": "markdown",
   "metadata": {},
   "source": [
    "## Train Test Split"
   ]
  },
  {
   "cell_type": "code",
   "execution_count": 7,
   "metadata": {},
   "outputs": [],
   "source": [
    "from sklearn.model_selection import train_test_split\n"
   ]
  },
  {
   "cell_type": "code",
   "execution_count": 8,
   "metadata": {
    "collapsed": true
   },
   "outputs": [],
   "source": [
    "X_train, X_test, y_train, y_test = train_test_split(X, y, test_size=0.3, random_state = 101)"
   ]
  },
  {
   "cell_type": "markdown",
   "metadata": {},
   "source": [
    "# Contrib.learn\n",
    "\n",
    "Let's show you how to use the simpler contrib.learn interface!"
   ]
  },
  {
   "cell_type": "code",
   "execution_count": 26,
   "metadata": {
    "collapsed": true
   },
   "outputs": [],
   "source": [
    "import tensorflow as tf\n",
    "import numpy as np"
   ]
  },
  {
   "cell_type": "code",
   "execution_count": 21,
   "metadata": {},
   "outputs": [],
   "source": [
    "feature_columns = [tf.feature_column.numeric_column(\"x\", shape=[4])]"
   ]
  },
  {
   "cell_type": "markdown",
   "metadata": {},
   "source": [
    "There are several high level abstraction calls to models in learn, you can explore them with Tab, but we will use DNNClassifier, which stands for Deep Neural Network:"
   ]
  },
  {
   "cell_type": "code",
   "execution_count": 24,
   "metadata": {},
   "outputs": [
    {
     "name": "stdout",
     "output_type": "stream",
     "text": [
      "INFO:tensorflow:Using default config.\n",
      "INFO:tensorflow:Using config: {'_model_dir': '/tmp/iris_model', '_tf_random_seed': None, '_save_summary_steps': 100, '_save_checkpoints_steps': None, '_save_checkpoints_secs': 600, '_session_config': None, '_keep_checkpoint_max': 5, '_keep_checkpoint_every_n_hours': 10000, '_log_step_count_steps': 100, '_service': None, '_cluster_spec': <tensorflow.python.training.server_lib.ClusterSpec object at 0x000002367BECB908>, '_task_type': 'worker', '_task_id': 0, '_master': '', '_is_chief': True, '_num_ps_replicas': 0, '_num_worker_replicas': 1}\n"
     ]
    }
   ],
   "source": [
    "classifier = tf.estimator.DNNClassifier(feature_columns=feature_columns,\n",
    "                                          hidden_units=[10, 20, 10],\n",
    "                                          n_classes=3,\n",
    "                                          model_dir=\"/tmp/iris_model\")"
   ]
  },
  {
   "cell_type": "code",
   "execution_count": 33,
   "metadata": {},
   "outputs": [],
   "source": [
    "train_input_fn = tf.estimator.inputs.numpy_input_fn(\n",
    "      x={\"x\":np.array(X)},\n",
    "      y=np.array(y),\n",
    "      num_epochs=None,\n",
    "      shuffle=True)"
   ]
  },
  {
   "cell_type": "code",
   "execution_count": 35,
   "metadata": {},
   "outputs": [
    {
     "name": "stdout",
     "output_type": "stream",
     "text": [
      "INFO:tensorflow:Create CheckpointSaverHook.\n",
      "INFO:tensorflow:Restoring parameters from /tmp/iris_model\\model.ckpt-4000\n",
      "INFO:tensorflow:Saving checkpoints for 4001 into /tmp/iris_model\\model.ckpt.\n",
      "INFO:tensorflow:loss = 4.63751, step = 4001\n",
      "INFO:tensorflow:global_step/sec: 708.5\n",
      "INFO:tensorflow:loss = 3.49293, step = 4101 (0.143 sec)\n",
      "INFO:tensorflow:global_step/sec: 886.428\n",
      "INFO:tensorflow:loss = 8.46886, step = 4201 (0.112 sec)\n",
      "INFO:tensorflow:global_step/sec: 881.421\n",
      "INFO:tensorflow:loss = 6.69997, step = 4301 (0.113 sec)\n",
      "INFO:tensorflow:global_step/sec: 936.128\n",
      "INFO:tensorflow:loss = 8.00111, step = 4401 (0.107 sec)\n",
      "INFO:tensorflow:global_step/sec: 1093.2\n",
      "INFO:tensorflow:loss = 2.96743, step = 4501 (0.090 sec)\n",
      "INFO:tensorflow:global_step/sec: 1086.36\n",
      "INFO:tensorflow:loss = 11.122, step = 4601 (0.093 sec)\n",
      "INFO:tensorflow:global_step/sec: 1032.68\n",
      "INFO:tensorflow:loss = 3.23721, step = 4701 (0.096 sec)\n",
      "INFO:tensorflow:global_step/sec: 1014.26\n",
      "INFO:tensorflow:loss = 1.9509, step = 4801 (0.100 sec)\n",
      "INFO:tensorflow:global_step/sec: 1032.82\n",
      "INFO:tensorflow:loss = 1.5641, step = 4901 (0.098 sec)\n",
      "INFO:tensorflow:global_step/sec: 952.05\n",
      "INFO:tensorflow:loss = 2.4414, step = 5001 (0.105 sec)\n",
      "INFO:tensorflow:global_step/sec: 923.803\n",
      "INFO:tensorflow:loss = 7.50591, step = 5101 (0.110 sec)\n",
      "INFO:tensorflow:global_step/sec: 918.154\n",
      "INFO:tensorflow:loss = 5.76601, step = 5201 (0.106 sec)\n",
      "INFO:tensorflow:global_step/sec: 972.597\n",
      "INFO:tensorflow:loss = 1.63278, step = 5301 (0.102 sec)\n",
      "INFO:tensorflow:global_step/sec: 1054.45\n",
      "INFO:tensorflow:loss = 14.4988, step = 5401 (0.096 sec)\n",
      "INFO:tensorflow:global_step/sec: 1113.07\n",
      "INFO:tensorflow:loss = 2.78997, step = 5501 (0.090 sec)\n",
      "INFO:tensorflow:global_step/sec: 1084.04\n",
      "INFO:tensorflow:loss = 12.406, step = 5601 (0.092 sec)\n",
      "INFO:tensorflow:global_step/sec: 1017.66\n",
      "INFO:tensorflow:loss = 2.39126, step = 5701 (0.098 sec)\n",
      "INFO:tensorflow:global_step/sec: 1076.11\n",
      "INFO:tensorflow:loss = 2.26315, step = 5801 (0.093 sec)\n",
      "INFO:tensorflow:global_step/sec: 961.463\n",
      "INFO:tensorflow:loss = 6.28832, step = 5901 (0.105 sec)\n",
      "INFO:tensorflow:global_step/sec: 932.07\n",
      "INFO:tensorflow:loss = 7.67943, step = 6001 (0.107 sec)\n",
      "INFO:tensorflow:global_step/sec: 923.784\n",
      "INFO:tensorflow:loss = 2.41918, step = 6101 (0.107 sec)\n",
      "INFO:tensorflow:global_step/sec: 1088.72\n",
      "INFO:tensorflow:loss = 14.8141, step = 6201 (0.091 sec)\n",
      "INFO:tensorflow:global_step/sec: 1088.63\n",
      "INFO:tensorflow:loss = 5.41022, step = 6301 (0.093 sec)\n",
      "INFO:tensorflow:global_step/sec: 1040.24\n",
      "INFO:tensorflow:loss = 3.45955, step = 6401 (0.096 sec)\n",
      "INFO:tensorflow:global_step/sec: 942.485\n",
      "INFO:tensorflow:loss = 0.894424, step = 6501 (0.108 sec)\n",
      "INFO:tensorflow:global_step/sec: 970.169\n",
      "INFO:tensorflow:loss = 11.6057, step = 6601 (0.103 sec)\n",
      "INFO:tensorflow:global_step/sec: 998.337\n",
      "INFO:tensorflow:loss = 8.326, step = 6701 (0.098 sec)\n",
      "INFO:tensorflow:global_step/sec: 1084.02\n",
      "INFO:tensorflow:loss = 1.99745, step = 6801 (0.092 sec)\n",
      "INFO:tensorflow:global_step/sec: 1032.95\n",
      "INFO:tensorflow:loss = 8.0178, step = 6901 (0.097 sec)\n",
      "INFO:tensorflow:global_step/sec: 1020.72\n",
      "INFO:tensorflow:loss = 4.02092, step = 7001 (0.099 sec)\n",
      "INFO:tensorflow:global_step/sec: 914.932\n",
      "INFO:tensorflow:loss = 2.4853, step = 7101 (0.110 sec)\n",
      "INFO:tensorflow:global_step/sec: 944.521\n",
      "INFO:tensorflow:loss = 11.7496, step = 7201 (0.105 sec)\n",
      "INFO:tensorflow:global_step/sec: 1001.54\n",
      "INFO:tensorflow:loss = 2.73956, step = 7301 (0.099 sec)\n",
      "INFO:tensorflow:global_step/sec: 1028.3\n",
      "INFO:tensorflow:loss = 7.10553, step = 7401 (0.097 sec)\n",
      "INFO:tensorflow:global_step/sec: 1073.39\n",
      "INFO:tensorflow:loss = 2.07768, step = 7501 (0.093 sec)\n",
      "INFO:tensorflow:global_step/sec: 1063.77\n",
      "INFO:tensorflow:loss = 2.92766, step = 7601 (0.094 sec)\n",
      "INFO:tensorflow:global_step/sec: 1076.32\n",
      "INFO:tensorflow:loss = 1.86888, step = 7701 (0.093 sec)\n",
      "INFO:tensorflow:global_step/sec: 1075.27\n",
      "INFO:tensorflow:loss = 1.73456, step = 7801 (0.093 sec)\n",
      "INFO:tensorflow:global_step/sec: 1020.79\n",
      "INFO:tensorflow:loss = 6.99356, step = 7901 (0.098 sec)\n",
      "INFO:tensorflow:global_step/sec: 1095.91\n",
      "INFO:tensorflow:loss = 3.07744, step = 8001 (0.090 sec)\n",
      "INFO:tensorflow:global_step/sec: 1112.08\n",
      "INFO:tensorflow:loss = 1.57266, step = 8101 (0.091 sec)\n",
      "INFO:tensorflow:global_step/sec: 1095.93\n",
      "INFO:tensorflow:loss = 6.19675, step = 8201 (0.091 sec)\n",
      "INFO:tensorflow:global_step/sec: 1089.42\n",
      "INFO:tensorflow:loss = 2.89248, step = 8301 (0.092 sec)\n",
      "INFO:tensorflow:global_step/sec: 1172.92\n",
      "INFO:tensorflow:loss = 8.53736, step = 8401 (0.085 sec)\n",
      "INFO:tensorflow:global_step/sec: 1126.33\n",
      "INFO:tensorflow:loss = 4.53462, step = 8501 (0.089 sec)\n",
      "INFO:tensorflow:global_step/sec: 1001.63\n",
      "INFO:tensorflow:loss = 3.28026, step = 8601 (0.101 sec)\n",
      "INFO:tensorflow:global_step/sec: 933.603\n",
      "INFO:tensorflow:loss = 0.991552, step = 8701 (0.108 sec)\n",
      "INFO:tensorflow:global_step/sec: 1008.74\n",
      "INFO:tensorflow:loss = 5.1999, step = 8801 (0.097 sec)\n",
      "INFO:tensorflow:global_step/sec: 1075.51\n",
      "INFO:tensorflow:loss = 7.01252, step = 8901 (0.093 sec)\n",
      "INFO:tensorflow:global_step/sec: 1111.81\n",
      "INFO:tensorflow:loss = 1.40288, step = 9001 (0.089 sec)\n",
      "INFO:tensorflow:global_step/sec: 1111.23\n",
      "INFO:tensorflow:loss = 3.88186, step = 9101 (0.091 sec)\n",
      "INFO:tensorflow:global_step/sec: 1098.29\n",
      "INFO:tensorflow:loss = 4.1603, step = 9201 (0.091 sec)\n",
      "INFO:tensorflow:global_step/sec: 1052.36\n",
      "INFO:tensorflow:loss = 6.1064, step = 9301 (0.095 sec)\n",
      "INFO:tensorflow:global_step/sec: 1149.24\n",
      "INFO:tensorflow:loss = 3.44069, step = 9401 (0.087 sec)\n",
      "INFO:tensorflow:global_step/sec: 1095.89\n",
      "INFO:tensorflow:loss = 2.81591, step = 9501 (0.091 sec)\n",
      "INFO:tensorflow:global_step/sec: 1089.99\n",
      "INFO:tensorflow:loss = 0.88781, step = 9601 (0.092 sec)\n",
      "INFO:tensorflow:global_step/sec: 1094.14\n",
      "INFO:tensorflow:loss = 4.86959, step = 9701 (0.091 sec)\n",
      "INFO:tensorflow:global_step/sec: 1179.73\n",
      "INFO:tensorflow:loss = 1.90678, step = 9801 (0.085 sec)\n",
      "INFO:tensorflow:global_step/sec: 1105.95\n",
      "INFO:tensorflow:loss = 3.3865, step = 9901 (0.090 sec)\n",
      "INFO:tensorflow:global_step/sec: 1133.27\n",
      "INFO:tensorflow:loss = 4.35261, step = 10001 (0.087 sec)\n",
      "INFO:tensorflow:global_step/sec: 1123.32\n",
      "INFO:tensorflow:loss = 2.71987, step = 10101 (0.090 sec)\n",
      "INFO:tensorflow:global_step/sec: 1150.39\n",
      "INFO:tensorflow:loss = 6.33146, step = 10201 (0.087 sec)\n",
      "INFO:tensorflow:global_step/sec: 1075.69\n",
      "INFO:tensorflow:loss = 7.71174, step = 10301 (0.093 sec)\n",
      "INFO:tensorflow:global_step/sec: 1124.28\n",
      "INFO:tensorflow:loss = 2.65598, step = 10401 (0.089 sec)\n",
      "INFO:tensorflow:global_step/sec: 1009.47\n",
      "INFO:tensorflow:loss = 12.0835, step = 10501 (0.100 sec)\n",
      "INFO:tensorflow:global_step/sec: 1038.85\n",
      "INFO:tensorflow:loss = 6.33817, step = 10601 (0.095 sec)\n",
      "INFO:tensorflow:global_step/sec: 961.93\n",
      "INFO:tensorflow:loss = 2.10804, step = 10701 (0.104 sec)\n",
      "INFO:tensorflow:global_step/sec: 1077.57\n",
      "INFO:tensorflow:loss = 1.38631, step = 10801 (0.093 sec)\n",
      "INFO:tensorflow:global_step/sec: 1114.33\n",
      "INFO:tensorflow:loss = 5.33167, step = 10901 (0.090 sec)\n",
      "INFO:tensorflow:global_step/sec: 1098.3\n",
      "INFO:tensorflow:loss = 0.809921, step = 11001 (0.091 sec)\n",
      "INFO:tensorflow:global_step/sec: 1186.91\n",
      "INFO:tensorflow:loss = 12.5705, step = 11101 (0.084 sec)\n",
      "INFO:tensorflow:global_step/sec: 1082.78\n",
      "INFO:tensorflow:loss = 7.49209, step = 11201 (0.092 sec)\n",
      "INFO:tensorflow:global_step/sec: 1098.79\n",
      "INFO:tensorflow:loss = 5.48531, step = 11301 (0.091 sec)\n",
      "INFO:tensorflow:global_step/sec: 1072.34\n",
      "INFO:tensorflow:loss = 2.91069, step = 11401 (0.093 sec)\n",
      "INFO:tensorflow:global_step/sec: 1100.88\n",
      "INFO:tensorflow:loss = 3.61428, step = 11501 (0.092 sec)\n",
      "INFO:tensorflow:global_step/sec: 1064.77\n",
      "INFO:tensorflow:loss = 1.33256, step = 11601 (0.093 sec)\n",
      "INFO:tensorflow:global_step/sec: 1042.27\n",
      "INFO:tensorflow:loss = 5.46597, step = 11701 (0.096 sec)\n",
      "INFO:tensorflow:global_step/sec: 944.063\n",
      "INFO:tensorflow:loss = 2.35078, step = 11801 (0.107 sec)\n",
      "INFO:tensorflow:global_step/sec: 898.592\n",
      "INFO:tensorflow:loss = 4.57021, step = 11901 (0.111 sec)\n",
      "INFO:tensorflow:global_step/sec: 1065.1\n",
      "INFO:tensorflow:loss = 2.65128, step = 12001 (0.094 sec)\n",
      "INFO:tensorflow:global_step/sec: 1146.32\n",
      "INFO:tensorflow:loss = 3.46746, step = 12101 (0.086 sec)\n",
      "INFO:tensorflow:global_step/sec: 1064.98\n",
      "INFO:tensorflow:loss = 2.94775, step = 12201 (0.095 sec)\n"
     ]
    },
    {
     "name": "stdout",
     "output_type": "stream",
     "text": [
      "INFO:tensorflow:global_step/sec: 1075.32\n",
      "INFO:tensorflow:loss = 6.71843, step = 12301 (0.092 sec)\n",
      "INFO:tensorflow:global_step/sec: 1146.3\n",
      "INFO:tensorflow:loss = 3.82912, step = 12401 (0.087 sec)\n",
      "INFO:tensorflow:global_step/sec: 1094.64\n",
      "INFO:tensorflow:loss = 6.42463, step = 12501 (0.092 sec)\n",
      "INFO:tensorflow:global_step/sec: 1015.86\n",
      "INFO:tensorflow:loss = 1.1266, step = 12601 (0.098 sec)\n",
      "INFO:tensorflow:global_step/sec: 949.642\n",
      "INFO:tensorflow:loss = 2.6792, step = 12701 (0.106 sec)\n",
      "INFO:tensorflow:global_step/sec: 1052.48\n",
      "INFO:tensorflow:loss = 2.53846, step = 12801 (0.096 sec)\n",
      "INFO:tensorflow:global_step/sec: 1108.13\n",
      "INFO:tensorflow:loss = 3.97463, step = 12901 (0.089 sec)\n",
      "INFO:tensorflow:global_step/sec: 1108.04\n",
      "INFO:tensorflow:loss = 5.49806, step = 13001 (0.090 sec)\n",
      "INFO:tensorflow:global_step/sec: 1112.49\n",
      "INFO:tensorflow:loss = 8.96741, step = 13101 (0.091 sec)\n",
      "INFO:tensorflow:global_step/sec: 1125.48\n",
      "INFO:tensorflow:loss = 1.55474, step = 13201 (0.088 sec)\n",
      "INFO:tensorflow:global_step/sec: 1160.73\n",
      "INFO:tensorflow:loss = 7.46931, step = 13301 (0.086 sec)\n",
      "INFO:tensorflow:global_step/sec: 1177.08\n",
      "INFO:tensorflow:loss = 7.58222, step = 13401 (0.085 sec)\n",
      "INFO:tensorflow:global_step/sec: 1135.96\n",
      "INFO:tensorflow:loss = 3.62557, step = 13501 (0.088 sec)\n",
      "INFO:tensorflow:global_step/sec: 1139.78\n",
      "INFO:tensorflow:loss = 3.67226, step = 13601 (0.088 sec)\n",
      "INFO:tensorflow:global_step/sec: 975.642\n",
      "INFO:tensorflow:loss = 10.138, step = 13701 (0.103 sec)\n",
      "INFO:tensorflow:global_step/sec: 967.085\n",
      "INFO:tensorflow:loss = 5.4997, step = 13801 (0.105 sec)\n",
      "INFO:tensorflow:global_step/sec: 986.54\n",
      "INFO:tensorflow:loss = 6.04604, step = 13901 (0.100 sec)\n",
      "INFO:tensorflow:global_step/sec: 981.866\n",
      "INFO:tensorflow:loss = 7.29221, step = 14001 (0.101 sec)\n",
      "INFO:tensorflow:global_step/sec: 987.469\n",
      "INFO:tensorflow:loss = 3.4501, step = 14101 (0.102 sec)\n",
      "INFO:tensorflow:global_step/sec: 950.645\n",
      "INFO:tensorflow:loss = 5.05301, step = 14201 (0.104 sec)\n",
      "INFO:tensorflow:global_step/sec: 1011.68\n",
      "INFO:tensorflow:loss = 1.54925, step = 14301 (0.100 sec)\n",
      "INFO:tensorflow:global_step/sec: 1108.15\n",
      "INFO:tensorflow:loss = 3.20167, step = 14401 (0.089 sec)\n",
      "INFO:tensorflow:global_step/sec: 997.205\n",
      "INFO:tensorflow:loss = 5.78173, step = 14501 (0.101 sec)\n",
      "INFO:tensorflow:global_step/sec: 947.116\n",
      "INFO:tensorflow:loss = 6.50549, step = 14601 (0.106 sec)\n",
      "INFO:tensorflow:global_step/sec: 982.093\n",
      "INFO:tensorflow:loss = 9.05798, step = 14701 (0.102 sec)\n",
      "INFO:tensorflow:global_step/sec: 999.844\n",
      "INFO:tensorflow:loss = 5.5908, step = 14801 (0.099 sec)\n",
      "INFO:tensorflow:global_step/sec: 1139.78\n",
      "INFO:tensorflow:loss = 1.11082, step = 14901 (0.088 sec)\n",
      "INFO:tensorflow:global_step/sec: 1132.5\n",
      "INFO:tensorflow:loss = 4.79663, step = 15001 (0.089 sec)\n",
      "INFO:tensorflow:global_step/sec: 1096.95\n",
      "INFO:tensorflow:loss = 1.33636, step = 15101 (0.091 sec)\n",
      "INFO:tensorflow:global_step/sec: 1136.83\n",
      "INFO:tensorflow:loss = 10.5146, step = 15201 (0.088 sec)\n",
      "INFO:tensorflow:global_step/sec: 1088.13\n",
      "INFO:tensorflow:loss = 3.59785, step = 15301 (0.091 sec)\n",
      "INFO:tensorflow:global_step/sec: 1161.65\n",
      "INFO:tensorflow:loss = 1.08168, step = 15401 (0.087 sec)\n",
      "INFO:tensorflow:global_step/sec: 1139.33\n",
      "INFO:tensorflow:loss = 5.13301, step = 15501 (0.088 sec)\n",
      "INFO:tensorflow:global_step/sec: 1126.6\n",
      "INFO:tensorflow:loss = 7.41466, step = 15601 (0.089 sec)\n",
      "INFO:tensorflow:global_step/sec: 1129.01\n",
      "INFO:tensorflow:loss = 3.83865, step = 15701 (0.088 sec)\n",
      "INFO:tensorflow:global_step/sec: 1126.92\n",
      "INFO:tensorflow:loss = 5.67787, step = 15801 (0.090 sec)\n",
      "INFO:tensorflow:global_step/sec: 1055.31\n",
      "INFO:tensorflow:loss = 3.81472, step = 15901 (0.095 sec)\n",
      "INFO:tensorflow:global_step/sec: 1065.74\n",
      "INFO:tensorflow:loss = 2.46574, step = 16001 (0.093 sec)\n",
      "INFO:tensorflow:global_step/sec: 1126.59\n",
      "INFO:tensorflow:loss = 0.85737, step = 16101 (0.090 sec)\n",
      "INFO:tensorflow:global_step/sec: 1083.09\n",
      "INFO:tensorflow:loss = 2.95391, step = 16201 (0.091 sec)\n",
      "INFO:tensorflow:global_step/sec: 1187.22\n",
      "INFO:tensorflow:loss = 1.33788, step = 16301 (0.085 sec)\n",
      "INFO:tensorflow:global_step/sec: 1111.23\n",
      "INFO:tensorflow:loss = 11.028, step = 16401 (0.090 sec)\n",
      "INFO:tensorflow:global_step/sec: 1151.63\n",
      "INFO:tensorflow:loss = 3.69934, step = 16501 (0.086 sec)\n",
      "INFO:tensorflow:global_step/sec: 1164.71\n",
      "INFO:tensorflow:loss = 4.4365, step = 16601 (0.087 sec)\n",
      "INFO:tensorflow:global_step/sec: 1159.66\n",
      "INFO:tensorflow:loss = 4.42876, step = 16701 (0.086 sec)\n",
      "INFO:tensorflow:global_step/sec: 1149.17\n",
      "INFO:tensorflow:loss = 2.42815, step = 16801 (0.088 sec)\n",
      "INFO:tensorflow:global_step/sec: 1178.26\n",
      "INFO:tensorflow:loss = 6.10497, step = 16901 (0.084 sec)\n",
      "INFO:tensorflow:global_step/sec: 1161.49\n",
      "INFO:tensorflow:loss = 1.69077, step = 17001 (0.086 sec)\n",
      "INFO:tensorflow:global_step/sec: 1111.41\n",
      "INFO:tensorflow:loss = 5.70984, step = 17101 (0.090 sec)\n",
      "INFO:tensorflow:global_step/sec: 1152.52\n",
      "INFO:tensorflow:loss = 3.79893, step = 17201 (0.087 sec)\n",
      "INFO:tensorflow:global_step/sec: 1094.63\n",
      "INFO:tensorflow:loss = 5.15373, step = 17301 (0.091 sec)\n",
      "INFO:tensorflow:global_step/sec: 1054.58\n",
      "INFO:tensorflow:loss = 3.69636, step = 17401 (0.096 sec)\n",
      "INFO:tensorflow:global_step/sec: 1088.91\n",
      "INFO:tensorflow:loss = 3.71852, step = 17501 (0.091 sec)\n",
      "INFO:tensorflow:global_step/sec: 1028.05\n",
      "INFO:tensorflow:loss = 2.41379, step = 17601 (0.097 sec)\n",
      "INFO:tensorflow:global_step/sec: 999.586\n",
      "INFO:tensorflow:loss = 4.76463, step = 17701 (0.101 sec)\n",
      "INFO:tensorflow:global_step/sec: 971.063\n",
      "INFO:tensorflow:loss = 4.21514, step = 17801 (0.102 sec)\n",
      "INFO:tensorflow:global_step/sec: 1033.17\n",
      "INFO:tensorflow:loss = 2.03411, step = 17901 (0.097 sec)\n",
      "INFO:tensorflow:global_step/sec: 1055.35\n",
      "INFO:tensorflow:loss = 0.662135, step = 18001 (0.096 sec)\n",
      "INFO:tensorflow:global_step/sec: 1023.08\n",
      "INFO:tensorflow:loss = 1.62883, step = 18101 (0.096 sec)\n",
      "INFO:tensorflow:global_step/sec: 985.77\n",
      "INFO:tensorflow:loss = 12.2066, step = 18201 (0.102 sec)\n",
      "INFO:tensorflow:global_step/sec: 1016.98\n",
      "INFO:tensorflow:loss = 4.72463, step = 18301 (0.099 sec)\n",
      "INFO:tensorflow:global_step/sec: 990.587\n",
      "INFO:tensorflow:loss = 7.54827, step = 18401 (0.101 sec)\n",
      "INFO:tensorflow:global_step/sec: 1025.34\n",
      "INFO:tensorflow:loss = 1.5956, step = 18501 (0.097 sec)\n",
      "INFO:tensorflow:global_step/sec: 1030.36\n",
      "INFO:tensorflow:loss = 1.91404, step = 18601 (0.097 sec)\n",
      "INFO:tensorflow:global_step/sec: 1098.08\n",
      "INFO:tensorflow:loss = 6.30959, step = 18701 (0.091 sec)\n",
      "INFO:tensorflow:global_step/sec: 1084\n",
      "INFO:tensorflow:loss = 5.94189, step = 18801 (0.092 sec)\n",
      "INFO:tensorflow:global_step/sec: 1032.55\n",
      "INFO:tensorflow:loss = 6.89236, step = 18901 (0.097 sec)\n",
      "INFO:tensorflow:global_step/sec: 1038.82\n",
      "INFO:tensorflow:loss = 1.59658, step = 19001 (0.096 sec)\n",
      "INFO:tensorflow:global_step/sec: 1054.35\n",
      "INFO:tensorflow:loss = 5.29405, step = 19101 (0.096 sec)\n",
      "INFO:tensorflow:global_step/sec: 1030.95\n",
      "INFO:tensorflow:loss = 2.97994, step = 19201 (0.096 sec)\n",
      "INFO:tensorflow:global_step/sec: 1135.63\n",
      "INFO:tensorflow:loss = 6.83466, step = 19301 (0.088 sec)\n",
      "INFO:tensorflow:global_step/sec: 1077.67\n",
      "INFO:tensorflow:loss = 4.37516, step = 19401 (0.093 sec)\n",
      "INFO:tensorflow:global_step/sec: 1126.04\n",
      "INFO:tensorflow:loss = 4.55047, step = 19501 (0.089 sec)\n",
      "INFO:tensorflow:global_step/sec: 1060.93\n",
      "INFO:tensorflow:loss = 2.20934, step = 19601 (0.094 sec)\n",
      "INFO:tensorflow:global_step/sec: 1101.07\n",
      "INFO:tensorflow:loss = 2.70257, step = 19701 (0.091 sec)\n",
      "INFO:tensorflow:global_step/sec: 1146.98\n",
      "INFO:tensorflow:loss = 5.81508, step = 19801 (0.087 sec)\n",
      "INFO:tensorflow:global_step/sec: 1084.03\n",
      "INFO:tensorflow:loss = 2.98227, step = 19901 (0.092 sec)\n",
      "INFO:tensorflow:global_step/sec: 1055.33\n",
      "INFO:tensorflow:loss = 2.06682, step = 20001 (0.095 sec)\n",
      "INFO:tensorflow:global_step/sec: 1082.06\n",
      "INFO:tensorflow:loss = 3.61703, step = 20101 (0.093 sec)\n",
      "INFO:tensorflow:global_step/sec: 1148.9\n",
      "INFO:tensorflow:loss = 3.52379, step = 20201 (0.087 sec)\n",
      "INFO:tensorflow:global_step/sec: 1096.39\n",
      "INFO:tensorflow:loss = 1.41143, step = 20301 (0.091 sec)\n",
      "INFO:tensorflow:global_step/sec: 1163.75\n",
      "INFO:tensorflow:loss = 3.63248, step = 20401 (0.085 sec)\n",
      "INFO:tensorflow:global_step/sec: 1113.9\n",
      "INFO:tensorflow:loss = 3.65554, step = 20501 (0.091 sec)\n",
      "INFO:tensorflow:global_step/sec: 1114.26\n",
      "INFO:tensorflow:loss = 6.00286, step = 20601 (0.090 sec)\n"
     ]
    },
    {
     "name": "stdout",
     "output_type": "stream",
     "text": [
      "INFO:tensorflow:global_step/sec: 1085.43\n",
      "INFO:tensorflow:loss = 3.61563, step = 20701 (0.092 sec)\n",
      "INFO:tensorflow:global_step/sec: 1165.63\n",
      "INFO:tensorflow:loss = 2.83986, step = 20801 (0.086 sec)\n",
      "INFO:tensorflow:global_step/sec: 1108.1\n",
      "INFO:tensorflow:loss = 6.63037, step = 20901 (0.090 sec)\n",
      "INFO:tensorflow:global_step/sec: 1065.16\n",
      "INFO:tensorflow:loss = 6.06874, step = 21001 (0.094 sec)\n",
      "INFO:tensorflow:global_step/sec: 1072.37\n",
      "INFO:tensorflow:loss = 3.64186, step = 21101 (0.093 sec)\n",
      "INFO:tensorflow:global_step/sec: 1053.4\n",
      "INFO:tensorflow:loss = 2.18578, step = 21201 (0.095 sec)\n",
      "INFO:tensorflow:global_step/sec: 1165.04\n",
      "INFO:tensorflow:loss = 4.05555, step = 21301 (0.086 sec)\n",
      "INFO:tensorflow:global_step/sec: 1148.35\n",
      "INFO:tensorflow:loss = 1.50148, step = 21401 (0.087 sec)\n",
      "INFO:tensorflow:global_step/sec: 1164.58\n",
      "INFO:tensorflow:loss = 2.84729, step = 21501 (0.086 sec)\n",
      "INFO:tensorflow:global_step/sec: 1123.74\n",
      "INFO:tensorflow:loss = 5.97811, step = 21601 (0.089 sec)\n",
      "INFO:tensorflow:global_step/sec: 1173.28\n",
      "INFO:tensorflow:loss = 4.94918, step = 21701 (0.085 sec)\n",
      "INFO:tensorflow:global_step/sec: 1139.77\n",
      "INFO:tensorflow:loss = 7.87702, step = 21801 (0.088 sec)\n",
      "INFO:tensorflow:global_step/sec: 1059.99\n",
      "INFO:tensorflow:loss = 4.98775, step = 21901 (0.094 sec)\n",
      "INFO:tensorflow:global_step/sec: 1030.92\n",
      "INFO:tensorflow:loss = 1.02827, step = 22001 (0.098 sec)\n",
      "INFO:tensorflow:global_step/sec: 923.357\n",
      "INFO:tensorflow:loss = 2.78097, step = 22101 (0.108 sec)\n",
      "INFO:tensorflow:global_step/sec: 945.108\n",
      "INFO:tensorflow:loss = 6.78737, step = 22201 (0.105 sec)\n",
      "INFO:tensorflow:global_step/sec: 1107.78\n",
      "INFO:tensorflow:loss = 4.02795, step = 22301 (0.090 sec)\n",
      "INFO:tensorflow:global_step/sec: 1158.1\n",
      "INFO:tensorflow:loss = 9.88503, step = 22401 (0.087 sec)\n",
      "INFO:tensorflow:global_step/sec: 1121.9\n",
      "INFO:tensorflow:loss = 4.31552, step = 22501 (0.089 sec)\n",
      "INFO:tensorflow:global_step/sec: 1125.12\n",
      "INFO:tensorflow:loss = 1.00793, step = 22601 (0.089 sec)\n",
      "INFO:tensorflow:global_step/sec: 1148.48\n",
      "INFO:tensorflow:loss = 1.04076, step = 22701 (0.087 sec)\n",
      "INFO:tensorflow:global_step/sec: 1111.77\n",
      "INFO:tensorflow:loss = 4.26352, step = 22801 (0.090 sec)\n",
      "INFO:tensorflow:global_step/sec: 1137.4\n",
      "INFO:tensorflow:loss = 4.75907, step = 22901 (0.088 sec)\n",
      "INFO:tensorflow:global_step/sec: 1193.63\n",
      "INFO:tensorflow:loss = 1.64856, step = 23001 (0.084 sec)\n",
      "INFO:tensorflow:global_step/sec: 1019.78\n",
      "INFO:tensorflow:loss = 4.61007, step = 23101 (0.098 sec)\n",
      "INFO:tensorflow:global_step/sec: 1127.03\n",
      "INFO:tensorflow:loss = 3.64068, step = 23201 (0.089 sec)\n",
      "INFO:tensorflow:global_step/sec: 1152.98\n",
      "INFO:tensorflow:loss = 7.53198, step = 23301 (0.087 sec)\n",
      "INFO:tensorflow:global_step/sec: 1133.21\n",
      "INFO:tensorflow:loss = 4.15282, step = 23401 (0.088 sec)\n",
      "INFO:tensorflow:global_step/sec: 1146.33\n",
      "INFO:tensorflow:loss = 4.26095, step = 23501 (0.087 sec)\n",
      "INFO:tensorflow:global_step/sec: 1139.12\n",
      "INFO:tensorflow:loss = 6.74745, step = 23601 (0.088 sec)\n",
      "INFO:tensorflow:global_step/sec: 1096.59\n",
      "INFO:tensorflow:loss = 5.72926, step = 23701 (0.091 sec)\n",
      "INFO:tensorflow:global_step/sec: 1088.77\n",
      "INFO:tensorflow:loss = 4.64767, step = 23801 (0.092 sec)\n",
      "INFO:tensorflow:global_step/sec: 1160.6\n",
      "INFO:tensorflow:loss = 5.78418, step = 23901 (0.086 sec)\n",
      "INFO:tensorflow:Saving checkpoints for 24000 into /tmp/iris_model\\model.ckpt.\n",
      "INFO:tensorflow:Loss for final step: 1.22441.\n"
     ]
    },
    {
     "data": {
      "text/plain": [
       "<tensorflow.python.estimator.canned.dnn.DNNClassifier at 0x2367becba20>"
      ]
     },
     "execution_count": 35,
     "metadata": {},
     "output_type": "execute_result"
    }
   ],
   "source": [
    "classifier.train(input_fn=train_input_fn, steps=20000)"
   ]
  },
  {
   "cell_type": "code",
   "execution_count": 52,
   "metadata": {
    "collapsed": true
   },
   "outputs": [],
   "source": [
    "predict_input_fn  = tf.estimator.inputs.numpy_input_fn(\n",
    "  x={\"x\": np.array(X_test)},\n",
    "  num_epochs=1,\n",
    "  shuffle=False)"
   ]
  },
  {
   "cell_type": "code",
   "execution_count": 60,
   "metadata": {},
   "outputs": [
    {
     "name": "stdout",
     "output_type": "stream",
     "text": [
      "INFO:tensorflow:Restoring parameters from /tmp/iris_model\\model.ckpt-24000\n"
     ]
    }
   ],
   "source": [
    "predictions = list(classifier.predict(input_fn=predict_input_fn))\n",
    "predicted_classes = [np.asscalar(p[\"classes\"]) for p in predictions]\n",
    "predicted_classes = [int(i) for i in predicted_classes]"
   ]
  },
  {
   "cell_type": "code",
   "execution_count": 61,
   "metadata": {
    "collapsed": true
   },
   "outputs": [],
   "source": [
    "from sklearn.metrics import classification_report,confusion_matrix,accuracy_score"
   ]
  },
  {
   "cell_type": "code",
   "execution_count": 62,
   "metadata": {},
   "outputs": [
    {
     "name": "stdout",
     "output_type": "stream",
     "text": [
      "             precision    recall  f1-score   support\n",
      "\n",
      "          0       1.00      1.00      1.00        13\n",
      "          1       1.00      1.00      1.00        20\n",
      "          2       1.00      1.00      1.00        12\n",
      "\n",
      "avg / total       1.00      1.00      1.00        45\n",
      "\n"
     ]
    }
   ],
   "source": [
    "print(classification_report(y_test,predicted_classes))"
   ]
  },
  {
   "cell_type": "code",
   "execution_count": 63,
   "metadata": {},
   "outputs": [
    {
     "name": "stdout",
     "output_type": "stream",
     "text": [
      "Accuracy: 1.000000\n"
     ]
    }
   ],
   "source": [
    "score = accuracy_score(y_test, predicted_classes)\n",
    "print('Accuracy: {0:f}'.format(score))"
   ]
  },
  {
   "cell_type": "markdown",
   "metadata": {},
   "source": [
    "# Great Job!"
   ]
  }
 ],
 "metadata": {
  "kernelspec": {
   "display_name": "Python 3",
   "language": "python",
   "name": "python3"
  },
  "language_info": {
   "codemirror_mode": {
    "name": "ipython",
    "version": 3
   },
   "file_extension": ".py",
   "mimetype": "text/x-python",
   "name": "python",
   "nbconvert_exporter": "python",
   "pygments_lexer": "ipython3",
   "version": "3.6.3"
  }
 },
 "nbformat": 4,
 "nbformat_minor": 1
}
